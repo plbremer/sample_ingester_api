{
 "cells": [
  {
   "cell_type": "markdown",
   "id": "76de4423",
   "metadata": {},
   "source": [
    "# Practical/Deployment"
   ]
  },
  {
   "cell_type": "markdown",
   "id": "3e9d5d5a",
   "metadata": {},
   "source": [
    "## Docker with Server"
   ]
  },
  {
   "cell_type": "markdown",
   "id": "58be64d5",
   "metadata": {},
   "source": [
    "text"
   ]
  },
  {
   "cell_type": "markdown",
   "id": "8d1a7419",
   "metadata": {},
   "source": [
    "## Serverless"
   ]
  },
  {
   "cell_type": "markdown",
   "id": "df67a4e7",
   "metadata": {},
   "source": [
    "text"
   ]
  },
  {
   "cell_type": "markdown",
   "id": "e78dce56",
   "metadata": {},
   "source": []
  }
 ],
 "metadata": {
  "kernelspec": {
   "display_name": "Python 3 (ipykernel)",
   "language": "python",
   "name": "python3"
  },
  "language_info": {
   "codemirror_mode": {
    "name": "ipython",
    "version": 3
   },
   "file_extension": ".py",
   "mimetype": "text/x-python",
   "name": "python",
   "nbconvert_exporter": "python",
   "pygments_lexer": "ipython3",
   "version": "3.8.16"
  }
 },
 "nbformat": 4,
 "nbformat_minor": 5
}
